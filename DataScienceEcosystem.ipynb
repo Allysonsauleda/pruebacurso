{
 "cells": [
  {
   "cell_type": "markdown",
   "id": "71c02e35",
   "metadata": {},
   "source": [
    "#Data Science Tools and Ecosystem"
   ]
  },
  {
   "cell_type": "code",
   "execution_count": 17,
   "id": "21b3b188",
   "metadata": {},
   "outputs": [],
   "source": [
    "#learning about data science tools"
   ]
  },
  {
   "cell_type": "code",
   "execution_count": 16,
   "id": "2450bb39",
   "metadata": {
    "scrolled": true
   },
   "outputs": [
    {
     "ename": "SyntaxError",
     "evalue": "invalid syntax (408639533.py, line 1)",
     "output_type": "error",
     "traceback": [
      "\u001b[1;36m  Cell \u001b[1;32mIn[16], line 1\u001b[1;36m\u001b[0m\n\u001b[1;33m    **Objectives:**\u001b[0m\n\u001b[1;37m    ^\u001b[0m\n\u001b[1;31mSyntaxError\u001b[0m\u001b[1;31m:\u001b[0m invalid syntax\n"
     ]
    }
   ],
   "source": [
    "**Objectives:**\n",
    "* Some of the popular languages that Data Scientists\n",
    "* Some of the commonly used libraries used by Data Scientists\n",
    "* A simple arithmetic expression\n",
    "* Create a code cell to convert minutes to hours"
   ]
  },
  {
   "cell_type": "code",
   "execution_count": null,
   "id": "e1795a23",
   "metadata": {},
   "outputs": [],
   "source": [
    "#Some of the popular languages that Data Scientists use are:"
   ]
  },
  {
   "cell_type": "code",
   "execution_count": null,
   "id": "6f2d02c7",
   "metadata": {},
   "outputs": [],
   "source": [
    "1. Paython\n",
    "2. R\n",
    "3. SQL\n",
    "4. Java"
   ]
  },
  {
   "cell_type": "code",
   "execution_count": null,
   "id": "a42376e7",
   "metadata": {},
   "outputs": [],
   "source": [
    "#Some of the commonly used libraries used by Data Scientists include:"
   ]
  },
  {
   "cell_type": "code",
   "execution_count": null,
   "id": "89ad484b",
   "metadata": {},
   "outputs": [],
   "source": [
    "1. dplyr\n",
    "2. ggplot\n",
    "3. caret4- stringr"
   ]
  },
  {
   "cell_type": "raw",
   "id": "c002ad62",
   "metadata": {},
   "source": [
    "| Data Science Tools |\n",
    "| ------------- |\n",
    "| Jupyter |\n",
    "| R |\n",
    "| Apache Zeppelin |\n",
    "\n",
    "\n",
    "\n"
   ]
  },
  {
   "cell_type": "markdown",
   "id": "ba57bb41",
   "metadata": {},
   "source": [
    "### Below are a few examples of evaluating arithmetic expressions in Python"
   ]
  },
  {
   "cell_type": "code",
   "execution_count": 4,
   "id": "6b0d6dc6",
   "metadata": {
    "scrolled": true
   },
   "outputs": [
    {
     "data": {
      "text/plain": [
       "17"
      ]
     },
     "execution_count": 4,
     "metadata": {},
     "output_type": "execute_result"
    }
   ],
   "source": [
    "#This a simple arithmetic expression to mutiply then add integers\n",
    "(3*4)+5"
   ]
  },
  {
   "cell_type": "code",
   "execution_count": 2,
   "id": "b0393978",
   "metadata": {},
   "outputs": [
    {
     "data": {
      "text/plain": [
       "3.3333333333333335"
      ]
     },
     "execution_count": 2,
     "metadata": {},
     "output_type": "execute_result"
    }
   ],
   "source": [
    "# This will convert 200 minutes to hours by diving by 60\n",
    "200/60"
   ]
  },
  {
   "cell_type": "code",
   "execution_count": null,
   "id": "45e7fbd8",
   "metadata": {},
   "outputs": [],
   "source": [
    "##Author\n",
    "Allyson"
   ]
  }
 ],
 "metadata": {
  "kernelspec": {
   "display_name": "Python 3 (ipykernel)",
   "language": "python",
   "name": "python3"
  },
  "language_info": {
   "codemirror_mode": {
    "name": "ipython",
    "version": 3
   },
   "file_extension": ".py",
   "mimetype": "text/x-python",
   "name": "python",
   "nbconvert_exporter": "python",
   "pygments_lexer": "ipython3",
   "version": "3.11.5"
  }
 },
 "nbformat": 4,
 "nbformat_minor": 5
}
